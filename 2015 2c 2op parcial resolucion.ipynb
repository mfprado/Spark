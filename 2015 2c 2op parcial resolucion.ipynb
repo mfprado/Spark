{
 "cells": [
  {
   "cell_type": "markdown",
   "metadata": {},
   "source": [
    "a) Si para un cierto término el\n",
    "código óptimo para representar sus\n",
    "punteros es el código unario\n",
    "entonces podemos decir que el\n",
    "término aparece en muchos\n",
    "documentos. (**) (10 pts)"
   ]
  },
  {
   "cell_type": "markdown",
   "metadata": {},
   "source": []
  },
  {
   "cell_type": "markdown",
   "metadata": {},
   "source": [
    "b) A medida que aumentamos el\n",
    "valor de “b” los códigos de\n",
    "Golomb crecen de forma cada vez\n",
    "mas suave. (***) (10 pts)"
   ]
  },
  {
   "cell_type": "markdown",
   "metadata": {},
   "source": []
  },
  {
   "cell_type": "markdown",
   "metadata": {},
   "source": [
    "c) La SVD puede usarse tanto para\n",
    "reducir las dimensiones de un\n",
    "conjunto de puntos como para\n",
    "reducir la cantidad de puntos en\n",
    "un set de datos. (**) (10 pts)"
   ]
  },
  {
   "cell_type": "markdown",
   "metadata": {},
   "source": []
  },
  {
   "cell_type": "markdown",
   "metadata": {},
   "source": [
    "d) Si queremos representar un set\n",
    "de datos en dos dimensiones para\n",
    "visualizarlo entonces la SVD es\n",
    "siempre la mejor opción. (**) (10\n",
    "pts)"
   ]
  },
  {
   "cell_type": "markdown",
   "metadata": {},
   "source": [
    "TSNE lo es, SVD es la mejor opcion para reducir dimensiones"
   ]
  },
  {
   "cell_type": "markdown",
   "metadata": {},
   "source": [
    "7) Se tiene un set de datos con el promedio para un examen de alumnos\n",
    "de dos escuelas diferentes. Los registros son de la forma (escuela,\n",
    "calificación), notar que no se identifica al alumno para anonimizarlo.\n",
    "(1,7) (1,4) (2,8) (1,8) (1,10) (1,10) (2,6) (2,9) (2,7) (2,8) (2,8) (1,6)\n",
    "(2,8) (1,4) (1,10) (2,6)\n",
    "Realizar un Boxplot e interpretar el mismo. (***) (10 pts)"
   ]
  },
  {
   "cell_type": "markdown",
   "metadata": {},
   "source": []
  },
  {
   "cell_type": "markdown",
   "metadata": {},
   "source": []
  },
  {
   "cell_type": "markdown",
   "metadata": {},
   "source": []
  },
  {
   "cell_type": "markdown",
   "metadata": {},
   "source": []
  }
 ],
 "metadata": {
  "kernelspec": {
   "display_name": "Python 2",
   "language": "python",
   "name": "python2"
  },
  "language_info": {
   "codemirror_mode": {
    "name": "ipython",
    "version": 2
   },
   "file_extension": ".py",
   "mimetype": "text/x-python",
   "name": "python",
   "nbconvert_exporter": "python",
   "pygments_lexer": "ipython2",
   "version": "2.7.12"
  }
 },
 "nbformat": 4,
 "nbformat_minor": 2
}

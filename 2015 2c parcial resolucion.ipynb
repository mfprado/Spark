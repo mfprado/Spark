{
 "cells": [
  {
   "cell_type": "markdown",
   "metadata": {},
   "source": [
    "a) Si queremos usar KNN para un\n",
    "cierto k fijo podemos eliminar del\n",
    "set de entrenamiento todos los\n",
    "puntos que tienen a sus k vecinos\n",
    "pertenecientes a la misma clase.\n",
    "(**) (10 pts)"
   ]
  },
  {
   "cell_type": "markdown",
   "metadata": {},
   "source": [
    "El proceso conocido como ”editing” en KNN consiste en eliminar del set de\n",
    "entrenamiento puntos que no son necesarios para la clasificación de otros pun-\n",
    "tos. Consideremos que para un cierto valor fijo de k nuestro espacio de puntos\n",
    "definido por el set de entrenamiento queda dividido en áreas que corresponden\n",
    "a cada una de las clases posibles, cualquier punto futuro que caiga dentro de\n",
    "cada área será clasificado con la clase que corresponde al área dentro de la cual\n",
    "ha caı́do el punto.\n",
    "Notemos que para definir cada área sólo es necesario contar con los puntos\n",
    "que están cerca de las fronteras de las mismas, los puntos interiores no juegan ningún papel en la clasificación de puntos cuya clase desconocemos. El proceso\n",
    "de editing tiene como objetivo eliminar dichos puntos. Los puntos que son real-\n",
    "mente relevantes para clasificar los vamos a llamar prototipos nuestro objetivo\n",
    "es encontrar los prototipos y descartar el resto de los puntos.\n",
    "\n",
    "VERDADERO"
   ]
  },
  {
   "cell_type": "markdown",
   "metadata": {},
   "source": [
    "Tenemos una matriz con las\n",
    "calificaciones de películas x\n",
    "usuario. La matriz es de 50000\n",
    "películas por 150000 usuarios. La\n",
    "dimensionalidad intrínseca de este\n",
    "set de datos seguramente "
   ]
  },
  {
   "cell_type": "markdown",
   "metadata": {},
   "source": [
    "??????????????????????????????????"
   ]
  },
  {
   "cell_type": "markdown",
   "metadata": {},
   "source": [
    "c) En un boxplot podemos\n",
    "identificar si los datos presentan el\n",
    "fenómeno conocido como\n",
    "“skewing”. (**) (10 pts)"
   ]
  },
  {
   "cell_type": "markdown",
   "metadata": {},
   "source": [
    "El fenómeno conocido como ”skewness” se da cuando la distribución de las\n",
    "clases en nuestro set de datos está muy desbalanceada. Consideremos el ejemplo\n",
    "tı́pico de una base de datos con emails rotulados como spam o no-spam que\n",
    "queremos usar como set de entrenamiento para un clasificador que nos permita\n",
    "predecir si un email no rotulado es spam o no. En el set de entrenamiento\n",
    "vamos a tener muchos mas emails rotulados como no-spam que como spam\n",
    "ya que afortunadamente el spam es sólo un pequeño porcentaje del total del\n",
    "volumen de emails que circulan diariamente. Por ejemplo podrı́amos tener un\n",
    "set de entrenamiento en el cual un 1% de los mensajes están rotulados como\n",
    "spam.\n",
    "\n",
    "Un boxplot es una forma de visualizar la distribución de una variable numérica,\n",
    "en general se usa para comparar la distribución de la variable de acuerdo a una\n",
    "variable categórica mostrando varios boxplots uno al lado del otro en el eje x.\n",
    "\n",
    "VERDADERA\n"
   ]
  },
  {
   "cell_type": "markdown",
   "metadata": {},
   "source": [
    "d) Un plot de tipo “coordenadas\n",
    "paralelas” perimite visualizar\n",
    "datos en múltiples dimensiones\n",
    "mientras que un plot de burbujas\n",
    "solo permite visualizar dos\n",
    "dimensiones. (*) (10 pts)"
   ]
  },
  {
   "cell_type": "markdown",
   "metadata": {},
   "source": [
    "En un plot de coordenadas\n",
    "paralelas tendremos una lı́nea por cada instancia (dato) y columnas represen-\n",
    "tando cada dimensión, por cada dato trazamos una lı́nea que pase por los valores\n",
    "que toma el dato en cada dimensión\n",
    "Eso es verdadero pero para los plots de burbujas es falso que solo se permiten 2 dimensiones. Podemos tener tamano, color, posicion x,y y con eso ya tenemos 4 imensiones"
   ]
  },
  {
   "cell_type": "markdown",
   "metadata": {},
   "source": [
    "4) Dados los siguientes puntos en 4 dimensiones: p1:(3,2,0,3) p2:\n",
    "(0,1,5,4) p3: (2,0,6,3) p4:(2,2,1,2). Aplicando la SVD obtenermos la\n",
    "siguiente descomposición (por filas):\n",
    "U= [-0.2942, 0.7870, -0.0268, -0.5417; -0.6193,-0.2611,0.7362,-0.0794;\n",
    "-0.6715, -0.3012, -0.6759, -0.0395; -0.2811, 0.4709,0.0207, 0.8359]\n",
    "S = [10.0500, 0, 0, 0; 0, 4.6033 , 0,0;0, 0 1.8316,0; 0,0, 0,0.6727]\n",
    "V=[-0.2774, 0.5866,-0.7594,-0.0477;-0.1761, 0.4898,0.3953,0.7569;-0.7370,-\n",
    "0.5738, -0.1929, 0.3006; -0.5907, 0.2944 0.4795, -0.5784]\n",
    "a) Graficar los puntos en dos dimensiones. (5 pts) (**)\n",
    "b) Interpretar el resultado de la SVD en base a los datos. (5 pts) (***)"
   ]
  },
  {
   "cell_type": "markdown",
   "metadata": {},
   "source": [
    "Reducción de dimensiones usando la SVD\n",
    "Una vez que hemos determinado a que dimensionalidad queremos reducir nue-\n",
    "stro set de datos el proceso usando la SVD es muy simple: solo tenemos que\n",
    "quedarnos con las primeras k columnas de la matriz U , esta matriz tiene tan-\n",
    "tas filas como datos tenemos y tantas columnas como vectores hay en la base,\n",
    "por lo tanto si queremos representar a nuestros datos en una base reducida a k\n",
    "vectores las primeras k columnas de U tienen los coeficientes que necesitamos y\n",
    "sirven como representación de los datos en nuestro nuevo espacio.\n",
    "\n",
    "\n",
    "\n",
    "entonces los 4 puntos son las (x,y) cada xi lo tomamos de la primera columna de u y yi de la segunda\n",
    "\n",
    "p1 = (-0.2942,-0.6193)\n",
    "p2 = (0.7870, -0.2611)\n",
    "p3 = (-0.0268, 0.7362)\n",
    "p4 = (-0.5417,-0.0794)"
   ]
  },
  {
   "cell_type": "markdown",
   "metadata": {},
   "source": [
    "A mxn es\n",
    "nuestra matriz de datos. U mxr es una base ortogonal en donde r es el rango de\n",
    "la matriz A. ⌃ rxr es una matriz diagonal con los valores singulares ordenados\n",
    "de mayor a menor: 1 , 2 ... n y finalmente V nxr es otra matriz ortogonal.\n",
    "\n",
    "Observemos que V t al ser una matriz de rxn tiene la misma dimensionalidad\n",
    "que nuestra matriz original, por lo tanto V es una base de r vectores en n\n",
    "dimensiones cada uno. ⌃ rxr nos da un escalar por el cual multiplicar cada\n",
    "uno de los vectores de la base, como ⌃ tiene los valores singulares ordenados\n",
    "de mayor nos determina la importancia de los vectores de la base V , el primer\n",
    "vector de V (la primer columna) es el mas importante de la base, el segundo es el\n",
    "segundo mas importante y ası́ sucesivamente. Finalmente la matriz U mxr tiene\n",
    "tantos vectores como datos tenemos y cada vector tiene dimensionalidad igual\n",
    "a la cantidad de vectores en la base V por lo tanto U indica los coeficientes por\n",
    "los cuales tenemos que multiplicar a cada vector de la base V para reconstruir\n",
    "cada uno de los puntos de nuestro set de datos.\n",
    "Dado un punto cualquiera de nuestro set de datos por ejemplo A i lo podemos\n",
    "expresar como una combinación lineal de vectores de la base V de la forma:\n",
    "A i = U i ⇤ ⌃ ⇤ V"
   ]
  }
 ],
 "metadata": {
  "kernelspec": {
   "display_name": "Python 2",
   "language": "python",
   "name": "python2"
  },
  "language_info": {
   "codemirror_mode": {
    "name": "ipython",
    "version": 2
   },
   "file_extension": ".py",
   "mimetype": "text/x-python",
   "name": "python",
   "nbconvert_exporter": "python",
   "pygments_lexer": "ipython2",
   "version": "2.7.12"
  }
 },
 "nbformat": 4,
 "nbformat_minor": 2
}

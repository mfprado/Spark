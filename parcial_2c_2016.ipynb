{
 "cells": [
  {
   "cell_type": "markdown",
   "metadata": {
    "deletable": true,
    "editable": true
   },
   "source": [
    "1) Contamos con un cluster que tiene 4 computadoras. Queremos\n",
    "aprovechar el paralelismo del cluster para calcular los números primos\n",
    "entre 2 y 20.000.000. Para esto usaremos el conocido algoritmo de la\n",
    "criba de Eratóstenes. Por ejemplo si empezamos con una lista de tipo\n",
    "(2,3,4,5,6,7,8...) en un primer paso eliminamos todos los que son\n",
    "mayores a 2 y divisibles por 2 y nos queda (2,3,5,7,9,11,13...) luego\n",
    "eliminamos todos los mayores a 3 divisibles por 3 y nos queda\n",
    "(2,3,5,7,11,13....etc) luego todos los divisibles por 5 y así\n",
    "sucesivamente. El resultado final es una lista de números que son\n",
    "primos. Programar este programa usando PySpark (**) (15"
   ]
  },
  {
   "cell_type": "code",
   "execution_count": 27,
   "metadata": {
    "collapsed": false,
    "deletable": true,
    "editable": true,
    "scrolled": true
   },
   "outputs": [
    {
     "name": "stdout",
     "output_type": "stream",
     "text": [
      "[2, 3, 4]\n",
      "2\n",
      "[2, 3]\n",
      "[2, 3]\n",
      "3\n",
      "[2, 3]\n"
     ]
    }
   ],
   "source": [
    "\n",
    "l = list(range(2, 5))\n",
    "rdd = sc.parallelize(l,4)\n",
    "pivote = 2\n",
    "nuevoPivote = 2\n",
    "continuar = True\n",
    "\n",
    "\n",
    "while(continuar):\n",
    "    try : \n",
    "        nuevoPivote = rdd.filter(lambda x: x > pivote).reduce(lambda x,y : x if x<y else y)\n",
    "        #Esto lo meto aca porque sino en algun momento va a querer hacer reduce de una lista vacia\n",
    "        continuar = True\n",
    "    except:\n",
    "        continuar = False\n",
    "    print rdd.collect()\n",
    "    print pivote\n",
    "    rdd = sc.parallelize(rdd.filter(lambda x:((x<=pivote)or(0 != (x%pivote)))).collect())\n",
    "    #hago esta mierda porque rdd = rdd.filter hacia lo que queria\n",
    "    print rdd.collect()\n",
    "    pivote = nuevoPivote\n",
    "    \n",
    "    \n",
    "    "
   ]
  },
  {
   "cell_type": "markdown",
   "metadata": {
    "deletable": true,
    "editable": true
   },
   "source": [
    "Ej 3a: Una función de hashing\n",
    "criptográfica como SHA-256\n",
    "genera menos colisiones que una\n",
    "función genérica como Jenkins\n",
    "pero es mucho mas lenta.(*) (10\n",
    "pts)"
   ]
  },
  {
   "cell_type": "markdown",
   "metadata": {
    "deletable": true,
    "editable": true
   },
   "source": [
    "La función de Jenkins fue publicada por primera vez en Dr Dobbs en 1997, se\n",
    "basa en realizar operaciones lógicas como XOR y shifts que son muy eficientes\n",
    "en una computadora.\n",
    "Por su eficiencia y poca cantidad de colisiones Jenkins es una función muy\n",
    "usada.\n",
    "\n",
    "Las funciones de hashing criptográficas son funciones de hashing que deben\n",
    "cumplir requisitos adicionales que hacen a la seguridad de las mismas. Una\n",
    "función de hashing criptográfica debe cumplir con las siguientes caracterı́sticas:\n",
    "1. La función tiene que producir la menor cantidad de colisiones posibles\n",
    "2. Dado h(x) tiene que ser muy difı́cil hallar x\n",
    "3. Tiene que ser muy difı́cil hallar x e y de forma tal que h(x)=h(y)\n",
    "4. Un cambio mı́nimo en la clave tiene que producir un cambio significativo\n",
    "en el resultado (efecto avalancha)\n",
    "La construcción de funciones de hashing criptográficas es un asunto muy\n",
    "delicado, hoy en dı́a la función de hashing criptográfica mas usada es SHA-256\n",
    "por lo que vamos a explicar el funcionamiento de la misma.\n",
    "SHA-256 se basa en la combinación de dos primitivas criptográficas muy\n",
    "importantes: La construcción de Merkle-Damgard y la construcción de Davis-\n",
    "Meyer."
   ]
  },
  {
   "cell_type": "markdown",
   "metadata": {
    "deletable": true,
    "editable": true
   },
   "source": [
    " Esto es falso, no hay absolutamente ninguna propiedad de las funciones criptográficas que garantice que generen menos\n",
    "colisiones que una función de hashing no-criptográfica."
   ]
  },
  {
   "cell_type": "markdown",
   "metadata": {
    "deletable": true,
    "editable": true
   },
   "source": [
    "Ej 3b El tiempo necesario para\n",
    "generar una función de hashing\n",
    "perfecta usando Hash & Displace\n",
    "depende de la cantidad de\n",
    "colisiones que genere la primer\n",
    "función de hashing. (*) (10 pts)"
   ]
  },
  {
   "cell_type": "markdown",
   "metadata": {
    "deletable": true,
    "editable": true
   },
   "source": [
    "Mirar el ejemplo del apunte, esta claro"
   ]
  },
  {
   "cell_type": "markdown",
   "metadata": {
    "deletable": true,
    "editable": true
   },
   "source": [
    "Esto es verdadero ya que una gran cantidad de colisiones de la primera función de hashing para un bucket puede requerir que\n",
    "sea necesario probar muchas funciones de hashing hasta poder distribuir estas claves de forma perfecta."
   ]
  },
  {
   "cell_type": "markdown",
   "metadata": {
    "deletable": true,
    "editable": true
   },
   "source": [
    "Ej 3c Dado un conjunto de claves\n",
    "numéricas de 32 bits la función de\n",
    "hashing x % 1000 es igual de\n",
    "buena que la función de hashing x\n",
    "% 1001. (*) (10 pts)"
   ]
  },
  {
   "cell_type": "markdown",
   "metadata": {
    "deletable": true,
    "editable": true
   },
   "source": [
    "Si los datos son uniformes es decir por ejemplo numeros de 0 a 2^32, por cada bucket tendremos la misma cantidad aprox de colisiones.\n",
    "\n",
    "para la de 1000 tendremos 1000 buckets \n",
    "para la de 1001 tendremos 10001 buckets\n",
    "al hablrar del orden de los 4 mil millones un bucket mas no va a cambiar ampliamente la cantidad de colisiones.\n",
    "\n",
    "Ahora si por ejemplo todos los datos son multiplos de 1000 tendremos para la primer funcion 100% de colisiones y no pasara lo mismo con la segunda funcion, la cual resultara mejor.\n",
    "\n",
    "\n",
    "Ej 3c: Esto es verdadero solo si los datos son uniformes, si los datos no son uniformes puede pasar que sean por ej múltiplos de\n",
    "1000.\n"
   ]
  },
  {
   "cell_type": "markdown",
   "metadata": {
    "deletable": true,
    "editable": true
   },
   "source": [
    "d) Una función de hashing puede\n",
    "ser perfecta y sin embargo no\n",
    "servir como función de hashing\n",
    "criptográfica. (*) (10 pts)"
   ]
  },
  {
   "cell_type": "markdown",
   "metadata": {
    "deletable": true,
    "editable": true
   },
   "source": [
    "Verdadera:\n",
    "Ej 3d: Esto es verdadero ya que los requisitos necesarios para que una función sea perfecta no son los mismos que aquellos\n",
    "necesarios para una función criptográfica (habría que mencionar estos requisitos para justificar adecuadamente)\n",
    "\n",
    "Una función de hashing criptográfica debe cumplir con las siguientes caracterı́sticas:\n",
    "1. La función tiene que producir la menor cantidad de colisiones posibles\n",
    "2. Dado h(x) tiene que ser muy difı́cil hallar x\n",
    "3. Tiene que ser muy difı́cil hallar x e y de forma tal que h(x)=h(y)\n",
    "4. Un cambio mı́nimo en la clave tiene que producir un cambio significativo\n",
    "en el resultado (efecto avalancha)"
   ]
  },
  {
   "cell_type": "markdown",
   "metadata": {
    "deletable": true,
    "editable": true
   },
   "source": [
    "5) Dados los vectores: x=[1,3,-1,2]; y=[-1,-2,-1,-1], z=[2,4,-1,3] y los\n",
    "hiperplanos aleatorios: r1 = [+1,-1,+1] r2=[+1,+1,-1] r3=[-1,-1,-1],\n",
    "r4=[+1,+1,+1]. Queremos usar 3 (tres) hiperplanos para aproximar el\n",
    "coseno entre los vectores usando LSH. ¿Cuáles son los 3 hiperplanos\n",
    "que hay que elegir entre los 4 propuestos? Justifique adecuadamente.\n",
    "(****) (15 pts)  CONSULTAR\n"
   ]
  },
  {
   "cell_type": "markdown",
   "metadata": {
    "deletable": true,
    "editable": true
   },
   "source": [
    "6) Tenemos vectores en 4 dimensiones y usamos “the hashing trick”\n",
    "usando el método de una única función de hashing (es decir sin signo)\n",
    "para reducirlos a 3 dimensiones. Sabemos que la matriz asociada a la\n",
    "función de hashing usada es la siguiente (por filas): [1,0,0; 0,0,1;\n",
    "0,1,0; 1,0,0]. Se pide construir la función de hashing h(x) equivalente a\n",
    "la matriz presentada. (10 pts) (**)"
   ]
  },
  {
   "cell_type": "markdown",
   "metadata": {
    "deletable": true,
    "editable": true
   },
   "source": []
  }
 ],
 "metadata": {
  "kernelspec": {
   "display_name": "pySpark",
   "language": "python",
   "name": "santi"
  },
  "language_info": {
   "codemirror_mode": {
    "name": "ipython",
    "version": 2
   },
   "file_extension": ".py",
   "mimetype": "text/x-python",
   "name": "python",
   "nbconvert_exporter": "python",
   "pygments_lexer": "ipython2",
   "version": "2.7.12"
  }
 },
 "nbformat": 4,
 "nbformat_minor": 2
}

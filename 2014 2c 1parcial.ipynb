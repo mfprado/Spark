{
 "cells": [
  {
   "cell_type": "markdown",
   "metadata": {},
   "source": [
    "a) Una función de hashing\n",
    "criptográfica produce muy\n",
    "pocas colisiones. (*) (10 pts)"
   ]
  },
  {
   "cell_type": "markdown",
   "metadata": {},
   "source": [
    " Verdadero porque es un requisito que no sea facil hallar colisiones por lo tanto tiene que minimizarlas"
   ]
  },
  {
   "cell_type": "markdown",
   "metadata": {},
   "source": [
    "b) La construcción de DavisMeyer\n",
    "es necesaria para que la\n",
    "función de hashing produzca\n",
    "muy pocas colisiones. (***)\n",
    "(10 pts)"
   ]
  },
  {
   "cell_type": "markdown",
   "metadata": {},
   "source": [
    " Falso porque la construcción de DM apunta a que sea difícil hallar colisiones no a que haya pocas. Es decir que no es\n",
    "necesaria la construcción para que la función tenga pocas colisiones. (Por ej Jenkins no usa DM y tiene pocas colisiones)"
   ]
  },
  {
   "cell_type": "markdown",
   "metadata": {},
   "source": [
    "c) El efecto avalancha se\n",
    "produce cuando muchas claves\n",
    "hashean a un mismo valor\n",
    "generando muchas colisiones.\n",
    "(**) (10 pts)"
   ]
  },
  {
   "cell_type": "markdown",
   "metadata": {},
   "source": [
    "Un cambio mı́nimo en la clave tiene que producir un cambio significativo\n",
    "en el resultado (efecto avalancha)"
   ]
  },
  {
   "cell_type": "markdown",
   "metadata": {},
   "source": [
    "d) Una función de hashing\n",
    "para strings debe poder\n",
    "generar el resultado muy\n",
    "rapidamente. (**) (10 pts)"
   ]
  },
  {
   "cell_type": "markdown",
   "metadata": {},
   "source": []
  }
 ],
 "metadata": {
  "kernelspec": {
   "display_name": "Python 2",
   "language": "python",
   "name": "python2"
  },
  "language_info": {
   "codemirror_mode": {
    "name": "ipython",
    "version": 2
   },
   "file_extension": ".py",
   "mimetype": "text/x-python",
   "name": "python",
   "nbconvert_exporter": "python",
   "pygments_lexer": "ipython2",
   "version": "2.7.12"
  }
 },
 "nbformat": 4,
 "nbformat_minor": 2
}

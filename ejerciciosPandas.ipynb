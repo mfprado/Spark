{
 "cells": [
  {
   "cell_type": "code",
   "execution_count": 1,
   "metadata": {
    "collapsed": true
   },
   "outputs": [],
   "source": [
    "import pandas as pd\n",
    "import numpy as np\n",
    "import seaborn as sns\n",
    "import matplotlib.pyplot as plt\n",
    "%matplotlib inline"
   ]
  },
  {
   "cell_type": "markdown",
   "metadata": {
    "deletable": true,
    "editable": true
   },
   "source": [
    " Segundo Cuatrimestre de 2014. Examen parcial, tercera oportunidad\n",
    " \n",
    " \n",
    " \n",
    "2) Se tiene un archivo de texto con datos de la forma (url_id,\n",
    "user_id) representando visitas a un website. (Se pueden\n",
    "repetir registros). Se pide programar en Pig un script que\n",
    "indique cual es el promedio global de sitios visitados por\n",
    "usuario. (***) (15pts)"
   ]
  },
  {
   "cell_type": "code",
   "execution_count": 80,
   "metadata": {
    "collapsed": false,
    "scrolled": false
   },
   "outputs": [
    {
     "data": {
      "text/html": [
       "<div>\n",
       "<table border=\"1\" class=\"dataframe\">\n",
       "  <thead>\n",
       "    <tr style=\"text-align: right;\">\n",
       "      <th></th>\n",
       "      <th>url_id</th>\n",
       "      <th>user_id</th>\n",
       "    </tr>\n",
       "  </thead>\n",
       "  <tbody>\n",
       "    <tr>\n",
       "      <th>15</th>\n",
       "      <td>asdSsa.com</td>\n",
       "      <td>1</td>\n",
       "    </tr>\n",
       "    <tr>\n",
       "      <th>16</th>\n",
       "      <td>qweAASqwed.com</td>\n",
       "      <td>2</td>\n",
       "    </tr>\n",
       "    <tr>\n",
       "      <th>17</th>\n",
       "      <td>qweqASwed.com</td>\n",
       "      <td>1</td>\n",
       "    </tr>\n",
       "    <tr>\n",
       "      <th>18</th>\n",
       "      <td>qwDSAASeqwed.com</td>\n",
       "      <td>2</td>\n",
       "    </tr>\n",
       "    <tr>\n",
       "      <th>19</th>\n",
       "      <td>aASsdsa.com</td>\n",
       "      <td>2</td>\n",
       "    </tr>\n",
       "  </tbody>\n",
       "</table>\n",
       "</div>"
      ],
      "text/plain": [
       "              url_id  user_id\n",
       "15        asdSsa.com        1\n",
       "16    qweAASqwed.com        2\n",
       "17     qweqASwed.com        1\n",
       "18  qwDSAASeqwed.com        2\n",
       "19       aASsdsa.com        2"
      ]
     },
     "execution_count": 80,
     "metadata": {},
     "output_type": "execute_result"
    }
   ],
   "source": [
    "df = pd.read_csv(\"website.csv\")\n",
    "df.tail()"
   ]
  },
  {
   "cell_type": "code",
   "execution_count": 16,
   "metadata": {
    "collapsed": false,
    "scrolled": true
   },
   "outputs": [
    {
     "data": {
      "text/html": [
       "<div>\n",
       "<table border=\"1\" class=\"dataframe\">\n",
       "  <thead>\n",
       "    <tr style=\"text-align: right;\">\n",
       "      <th></th>\n",
       "      <th>user_id</th>\n",
       "    </tr>\n",
       "  </thead>\n",
       "  <tbody>\n",
       "    <tr>\n",
       "      <th>count</th>\n",
       "      <td>20.000000</td>\n",
       "    </tr>\n",
       "    <tr>\n",
       "      <th>mean</th>\n",
       "      <td>1.600000</td>\n",
       "    </tr>\n",
       "    <tr>\n",
       "      <th>std</th>\n",
       "      <td>0.502625</td>\n",
       "    </tr>\n",
       "    <tr>\n",
       "      <th>min</th>\n",
       "      <td>1.000000</td>\n",
       "    </tr>\n",
       "    <tr>\n",
       "      <th>25%</th>\n",
       "      <td>1.000000</td>\n",
       "    </tr>\n",
       "    <tr>\n",
       "      <th>50%</th>\n",
       "      <td>2.000000</td>\n",
       "    </tr>\n",
       "    <tr>\n",
       "      <th>75%</th>\n",
       "      <td>2.000000</td>\n",
       "    </tr>\n",
       "    <tr>\n",
       "      <th>max</th>\n",
       "      <td>2.000000</td>\n",
       "    </tr>\n",
       "  </tbody>\n",
       "</table>\n",
       "</div>"
      ],
      "text/plain": [
       "         user_id\n",
       "count  20.000000\n",
       "mean    1.600000\n",
       "std     0.502625\n",
       "min     1.000000\n",
       "25%     1.000000\n",
       "50%     2.000000\n",
       "75%     2.000000\n",
       "max     2.000000"
      ]
     },
     "execution_count": 16,
     "metadata": {},
     "output_type": "execute_result"
    }
   ],
   "source": [
    "df.describe()"
   ]
  },
  {
   "cell_type": "code",
   "execution_count": 23,
   "metadata": {
    "collapsed": false
   },
   "outputs": [
    {
     "data": {
      "text/plain": [
       "0            asdsa.coms\n",
       "1          qweqwed.coms\n",
       "2          qweqwed.coms\n",
       "3          qweqwed.coms\n",
       "4            asdsa.coms\n",
       "5            asdsa.coms\n",
       "6          qweqwed.coms\n",
       "7        qweqaswed.coms\n",
       "8         qweaqwed.coms\n",
       "9            asdsa.coms\n",
       "10        asSSWdsa.coms\n",
       "11       qweSAqwed.coms\n",
       "12      qweSASqwed.coms\n",
       "13       qwADeqwed.coms\n",
       "14          asAdsa.coms\n",
       "15          asdSsa.coms\n",
       "16      qweAASqwed.coms\n",
       "17       qweqASwed.coms\n",
       "18    qwDSAASeqwed.coms\n",
       "19         aASsdsa.coms\n",
       "Name: url_id, dtype: object"
      ]
     },
     "execution_count": 23,
     "metadata": {},
     "output_type": "execute_result"
    }
   ],
   "source": [
    "df.loc[:,'url_id'].apply(lambda x : x+'s')\n",
    "\n",
    "# df['url_id']"
   ]
  },
  {
   "cell_type": "code",
   "execution_count": 24,
   "metadata": {
    "collapsed": false
   },
   "outputs": [
    {
     "data": {
      "text/html": [
       "<div>\n",
       "<table border=\"1\" class=\"dataframe\">\n",
       "  <thead>\n",
       "    <tr style=\"text-align: right;\">\n",
       "      <th></th>\n",
       "      <th>url_id</th>\n",
       "      <th>user_id</th>\n",
       "    </tr>\n",
       "  </thead>\n",
       "  <tbody>\n",
       "    <tr>\n",
       "      <th>19</th>\n",
       "      <td>aASsdsa.com</td>\n",
       "      <td>2</td>\n",
       "    </tr>\n",
       "    <tr>\n",
       "      <th>14</th>\n",
       "      <td>asAdsa.com</td>\n",
       "      <td>2</td>\n",
       "    </tr>\n",
       "    <tr>\n",
       "      <th>10</th>\n",
       "      <td>asSSWdsa.com</td>\n",
       "      <td>1</td>\n",
       "    </tr>\n",
       "    <tr>\n",
       "      <th>15</th>\n",
       "      <td>asdSsa.com</td>\n",
       "      <td>1</td>\n",
       "    </tr>\n",
       "    <tr>\n",
       "      <th>5</th>\n",
       "      <td>asdsa.com</td>\n",
       "      <td>1</td>\n",
       "    </tr>\n",
       "    <tr>\n",
       "      <th>0</th>\n",
       "      <td>asdsa.com</td>\n",
       "      <td>1</td>\n",
       "    </tr>\n",
       "    <tr>\n",
       "      <th>4</th>\n",
       "      <td>asdsa.com</td>\n",
       "      <td>2</td>\n",
       "    </tr>\n",
       "    <tr>\n",
       "      <th>9</th>\n",
       "      <td>asdsa.com</td>\n",
       "      <td>2</td>\n",
       "    </tr>\n",
       "    <tr>\n",
       "      <th>13</th>\n",
       "      <td>qwADeqwed.com</td>\n",
       "      <td>2</td>\n",
       "    </tr>\n",
       "    <tr>\n",
       "      <th>18</th>\n",
       "      <td>qwDSAASeqwed.com</td>\n",
       "      <td>2</td>\n",
       "    </tr>\n",
       "    <tr>\n",
       "      <th>16</th>\n",
       "      <td>qweAASqwed.com</td>\n",
       "      <td>2</td>\n",
       "    </tr>\n",
       "    <tr>\n",
       "      <th>12</th>\n",
       "      <td>qweSASqwed.com</td>\n",
       "      <td>1</td>\n",
       "    </tr>\n",
       "    <tr>\n",
       "      <th>11</th>\n",
       "      <td>qweSAqwed.com</td>\n",
       "      <td>2</td>\n",
       "    </tr>\n",
       "    <tr>\n",
       "      <th>8</th>\n",
       "      <td>qweaqwed.com</td>\n",
       "      <td>2</td>\n",
       "    </tr>\n",
       "    <tr>\n",
       "      <th>17</th>\n",
       "      <td>qweqASwed.com</td>\n",
       "      <td>1</td>\n",
       "    </tr>\n",
       "    <tr>\n",
       "      <th>7</th>\n",
       "      <td>qweqaswed.com</td>\n",
       "      <td>1</td>\n",
       "    </tr>\n",
       "    <tr>\n",
       "      <th>6</th>\n",
       "      <td>qweqwed.com</td>\n",
       "      <td>2</td>\n",
       "    </tr>\n",
       "    <tr>\n",
       "      <th>3</th>\n",
       "      <td>qweqwed.com</td>\n",
       "      <td>2</td>\n",
       "    </tr>\n",
       "    <tr>\n",
       "      <th>2</th>\n",
       "      <td>qweqwed.com</td>\n",
       "      <td>1</td>\n",
       "    </tr>\n",
       "    <tr>\n",
       "      <th>1</th>\n",
       "      <td>qweqwed.com</td>\n",
       "      <td>2</td>\n",
       "    </tr>\n",
       "  </tbody>\n",
       "</table>\n",
       "</div>"
      ],
      "text/plain": [
       "              url_id  user_id\n",
       "19       aASsdsa.com        2\n",
       "14        asAdsa.com        2\n",
       "10      asSSWdsa.com        1\n",
       "15        asdSsa.com        1\n",
       "5          asdsa.com        1\n",
       "0          asdsa.com        1\n",
       "4          asdsa.com        2\n",
       "9          asdsa.com        2\n",
       "13     qwADeqwed.com        2\n",
       "18  qwDSAASeqwed.com        2\n",
       "16    qweAASqwed.com        2\n",
       "12    qweSASqwed.com        1\n",
       "11     qweSAqwed.com        2\n",
       "8       qweaqwed.com        2\n",
       "17     qweqASwed.com        1\n",
       "7      qweqaswed.com        1\n",
       "6        qweqwed.com        2\n",
       "3        qweqwed.com        2\n",
       "2        qweqwed.com        1\n",
       "1        qweqwed.com        2"
      ]
     },
     "execution_count": 24,
     "metadata": {},
     "output_type": "execute_result"
    }
   ],
   "source": [
    "df.sort_values('url_id',ascending=True).head(20)"
   ]
  },
  {
   "cell_type": "code",
   "execution_count": 33,
   "metadata": {
    "collapsed": false
   },
   "outputs": [
    {
     "name": "stdout",
     "output_type": "stream",
     "text": [
      "      url_id  user_id\n",
      "0  asdsa.com        1\n",
      "4  asdsa.com        2\n",
      "5  asdsa.com        1\n",
      "9  asdsa.com        2\n"
     ]
    }
   ],
   "source": [
    "print df.loc[df.url_id.str.contains(\"asdsa.com\"),:]\n"
   ]
  },
  {
   "cell_type": "code",
   "execution_count": 46,
   "metadata": {
    "collapsed": false
   },
   "outputs": [
    {
     "data": {
      "text/html": [
       "<div>\n",
       "<table border=\"1\" class=\"dataframe\">\n",
       "  <thead>\n",
       "    <tr style=\"text-align: right;\">\n",
       "      <th></th>\n",
       "      <th>user_id</th>\n",
       "      <th>url_id</th>\n",
       "    </tr>\n",
       "  </thead>\n",
       "  <tbody>\n",
       "    <tr>\n",
       "      <th>1</th>\n",
       "      <td>2</td>\n",
       "      <td>qweqwed.com</td>\n",
       "    </tr>\n",
       "    <tr>\n",
       "      <th>2</th>\n",
       "      <td>1</td>\n",
       "      <td>qweqwed.com</td>\n",
       "    </tr>\n",
       "    <tr>\n",
       "      <th>3</th>\n",
       "      <td>2</td>\n",
       "      <td>qweqwed.com</td>\n",
       "    </tr>\n",
       "  </tbody>\n",
       "</table>\n",
       "</div>"
      ],
      "text/plain": [
       "   user_id       url_id\n",
       "1        2  qweqwed.com\n",
       "2        1  qweqwed.com\n",
       "3        2  qweqwed.com"
      ]
     },
     "execution_count": 46,
     "metadata": {},
     "output_type": "execute_result"
    }
   ],
   "source": [
    "df.loc[1:3,['user_id', 'url_id']]"
   ]
  },
  {
   "cell_type": "code",
   "execution_count": 50,
   "metadata": {
    "collapsed": false
   },
   "outputs": [
    {
     "data": {
      "text/plain": [
       "1    qweqwed.com\n",
       "2    qweqwed.com\n",
       "Name: url_id, dtype: object"
      ]
     },
     "execution_count": 50,
     "metadata": {},
     "output_type": "execute_result"
    }
   ],
   "source": [
    "df.url_id[1:3].head()"
   ]
  },
  {
   "cell_type": "code",
   "execution_count": 61,
   "metadata": {
    "collapsed": false
   },
   "outputs": [
    {
     "data": {
      "text/html": [
       "<div>\n",
       "<table border=\"1\" class=\"dataframe\">\n",
       "  <thead>\n",
       "    <tr style=\"text-align: right;\">\n",
       "      <th></th>\n",
       "      <th>url_id</th>\n",
       "      <th>user_id</th>\n",
       "    </tr>\n",
       "  </thead>\n",
       "  <tbody>\n",
       "    <tr>\n",
       "      <th>19</th>\n",
       "      <td>asdsa.com</td>\n",
       "      <td>1</td>\n",
       "    </tr>\n",
       "    <tr>\n",
       "      <th>18</th>\n",
       "      <td>qweqwed.com</td>\n",
       "      <td>2</td>\n",
       "    </tr>\n",
       "    <tr>\n",
       "      <th>17</th>\n",
       "      <td>qweqwed.com</td>\n",
       "      <td>1</td>\n",
       "    </tr>\n",
       "    <tr>\n",
       "      <th>16</th>\n",
       "      <td>qweqwed.com</td>\n",
       "      <td>2</td>\n",
       "    </tr>\n",
       "    <tr>\n",
       "      <th>15</th>\n",
       "      <td>asdsa.com</td>\n",
       "      <td>2</td>\n",
       "    </tr>\n",
       "    <tr>\n",
       "      <th>14</th>\n",
       "      <td>asdsa.com</td>\n",
       "      <td>1</td>\n",
       "    </tr>\n",
       "    <tr>\n",
       "      <th>13</th>\n",
       "      <td>qweqwed.com</td>\n",
       "      <td>2</td>\n",
       "    </tr>\n",
       "    <tr>\n",
       "      <th>12</th>\n",
       "      <td>qweqaswed.com</td>\n",
       "      <td>1</td>\n",
       "    </tr>\n",
       "    <tr>\n",
       "      <th>11</th>\n",
       "      <td>qweaqwed.com</td>\n",
       "      <td>2</td>\n",
       "    </tr>\n",
       "    <tr>\n",
       "      <th>10</th>\n",
       "      <td>asdsa.com</td>\n",
       "      <td>2</td>\n",
       "    </tr>\n",
       "    <tr>\n",
       "      <th>9</th>\n",
       "      <td>asSSWdsa.com</td>\n",
       "      <td>1</td>\n",
       "    </tr>\n",
       "    <tr>\n",
       "      <th>8</th>\n",
       "      <td>qweSAqwed.com</td>\n",
       "      <td>2</td>\n",
       "    </tr>\n",
       "    <tr>\n",
       "      <th>7</th>\n",
       "      <td>qweSASqwed.com</td>\n",
       "      <td>1</td>\n",
       "    </tr>\n",
       "    <tr>\n",
       "      <th>6</th>\n",
       "      <td>qwADeqwed.com</td>\n",
       "      <td>2</td>\n",
       "    </tr>\n",
       "    <tr>\n",
       "      <th>5</th>\n",
       "      <td>asAdsa.com</td>\n",
       "      <td>2</td>\n",
       "    </tr>\n",
       "    <tr>\n",
       "      <th>4</th>\n",
       "      <td>asdSsa.com</td>\n",
       "      <td>1</td>\n",
       "    </tr>\n",
       "    <tr>\n",
       "      <th>3</th>\n",
       "      <td>qweAASqwed.com</td>\n",
       "      <td>2</td>\n",
       "    </tr>\n",
       "    <tr>\n",
       "      <th>2</th>\n",
       "      <td>qweqASwed.com</td>\n",
       "      <td>1</td>\n",
       "    </tr>\n",
       "    <tr>\n",
       "      <th>1</th>\n",
       "      <td>qwDSAASeqwed.com</td>\n",
       "      <td>2</td>\n",
       "    </tr>\n",
       "    <tr>\n",
       "      <th>0</th>\n",
       "      <td>aASsdsa.com</td>\n",
       "      <td>2</td>\n",
       "    </tr>\n",
       "  </tbody>\n",
       "</table>\n",
       "</div>"
      ],
      "text/plain": [
       "              url_id  user_id\n",
       "19         asdsa.com        1\n",
       "18       qweqwed.com        2\n",
       "17       qweqwed.com        1\n",
       "16       qweqwed.com        2\n",
       "15         asdsa.com        2\n",
       "14         asdsa.com        1\n",
       "13       qweqwed.com        2\n",
       "12     qweqaswed.com        1\n",
       "11      qweaqwed.com        2\n",
       "10         asdsa.com        2\n",
       "9       asSSWdsa.com        1\n",
       "8      qweSAqwed.com        2\n",
       "7     qweSASqwed.com        1\n",
       "6      qwADeqwed.com        2\n",
       "5         asAdsa.com        2\n",
       "4         asdSsa.com        1\n",
       "3     qweAASqwed.com        2\n",
       "2      qweqASwed.com        1\n",
       "1   qwDSAASeqwed.com        2\n",
       "0        aASsdsa.com        2"
      ]
     },
     "execution_count": 61,
     "metadata": {},
     "output_type": "execute_result"
    }
   ],
   "source": [
    "df.index = [19,18,17,16,15,14,13,12,11,10,9,8,7,6,5,4,3,2,1,0]\n",
    "df.head(20)"
   ]
  },
  {
   "cell_type": "code",
   "execution_count": 72,
   "metadata": {
    "collapsed": false,
    "scrolled": true
   },
   "outputs": [
    {
     "data": {
      "text/html": [
       "<div>\n",
       "<table border=\"1\" class=\"dataframe\">\n",
       "  <thead>\n",
       "    <tr style=\"text-align: right;\">\n",
       "      <th></th>\n",
       "      <th>url_id</th>\n",
       "      <th>user_id</th>\n",
       "    </tr>\n",
       "  </thead>\n",
       "  <tbody>\n",
       "    <tr>\n",
       "      <th>3</th>\n",
       "      <td>qweAASqwed.com</td>\n",
       "      <td>2</td>\n",
       "    </tr>\n",
       "    <tr>\n",
       "      <th>2</th>\n",
       "      <td>qweqASwed.com</td>\n",
       "      <td>1</td>\n",
       "    </tr>\n",
       "  </tbody>\n",
       "</table>\n",
       "</div>"
      ],
      "text/plain": [
       "           url_id  user_id\n",
       "3  qweAASqwed.com        2\n",
       "2   qweqASwed.com        1"
      ]
     },
     "execution_count": 72,
     "metadata": {},
     "output_type": "execute_result"
    }
   ],
   "source": [
    "df.loc[3:2,:]"
   ]
  },
  {
   "cell_type": "code",
   "execution_count": 84,
   "metadata": {
    "collapsed": false
   },
   "outputs": [
    {
     "data": {
      "text/html": [
       "<div>\n",
       "<table border=\"1\" class=\"dataframe\">\n",
       "  <thead>\n",
       "    <tr style=\"text-align: right;\">\n",
       "      <th></th>\n",
       "      <th>url_id</th>\n",
       "      <th>user_id</th>\n",
       "    </tr>\n",
       "  </thead>\n",
       "  <tbody>\n",
       "    <tr>\n",
       "      <th>0</th>\n",
       "      <td>asdsa.com</td>\n",
       "      <td>1</td>\n",
       "    </tr>\n",
       "    <tr>\n",
       "      <th>1</th>\n",
       "      <td>qweqwed.com</td>\n",
       "      <td>2</td>\n",
       "    </tr>\n",
       "    <tr>\n",
       "      <th>2</th>\n",
       "      <td>qweqwed.com</td>\n",
       "      <td>4</td>\n",
       "    </tr>\n",
       "    <tr>\n",
       "      <th>3</th>\n",
       "      <td>qweqwed.com</td>\n",
       "      <td>4</td>\n",
       "    </tr>\n",
       "    <tr>\n",
       "      <th>4</th>\n",
       "      <td>asdsa.com</td>\n",
       "      <td>2</td>\n",
       "    </tr>\n",
       "    <tr>\n",
       "      <th>5</th>\n",
       "      <td>asdsa.com</td>\n",
       "      <td>1</td>\n",
       "    </tr>\n",
       "    <tr>\n",
       "      <th>6</th>\n",
       "      <td>qweqwed.com</td>\n",
       "      <td>2</td>\n",
       "    </tr>\n",
       "    <tr>\n",
       "      <th>7</th>\n",
       "      <td>qweqaswed.com</td>\n",
       "      <td>1</td>\n",
       "    </tr>\n",
       "    <tr>\n",
       "      <th>8</th>\n",
       "      <td>qweaqwed.com</td>\n",
       "      <td>2</td>\n",
       "    </tr>\n",
       "    <tr>\n",
       "      <th>9</th>\n",
       "      <td>asdsa.com</td>\n",
       "      <td>2</td>\n",
       "    </tr>\n",
       "    <tr>\n",
       "      <th>10</th>\n",
       "      <td>asSSWdsa.com</td>\n",
       "      <td>1</td>\n",
       "    </tr>\n",
       "    <tr>\n",
       "      <th>11</th>\n",
       "      <td>qweSAqwed.com</td>\n",
       "      <td>2</td>\n",
       "    </tr>\n",
       "    <tr>\n",
       "      <th>12</th>\n",
       "      <td>qweSASqwed.com</td>\n",
       "      <td>1</td>\n",
       "    </tr>\n",
       "    <tr>\n",
       "      <th>13</th>\n",
       "      <td>qwADeqwed.com</td>\n",
       "      <td>2</td>\n",
       "    </tr>\n",
       "    <tr>\n",
       "      <th>14</th>\n",
       "      <td>asAdsa.com</td>\n",
       "      <td>2</td>\n",
       "    </tr>\n",
       "    <tr>\n",
       "      <th>15</th>\n",
       "      <td>asdSsa.com</td>\n",
       "      <td>1</td>\n",
       "    </tr>\n",
       "    <tr>\n",
       "      <th>16</th>\n",
       "      <td>qweAASqwed.com</td>\n",
       "      <td>2</td>\n",
       "    </tr>\n",
       "    <tr>\n",
       "      <th>17</th>\n",
       "      <td>qweqASwed.com</td>\n",
       "      <td>1</td>\n",
       "    </tr>\n",
       "    <tr>\n",
       "      <th>18</th>\n",
       "      <td>qwDSAASeqwed.com</td>\n",
       "      <td>2</td>\n",
       "    </tr>\n",
       "    <tr>\n",
       "      <th>19</th>\n",
       "      <td>aASsdsa.com</td>\n",
       "      <td>2</td>\n",
       "    </tr>\n",
       "  </tbody>\n",
       "</table>\n",
       "</div>"
      ],
      "text/plain": [
       "              url_id  user_id\n",
       "0          asdsa.com        1\n",
       "1        qweqwed.com        2\n",
       "2        qweqwed.com        4\n",
       "3        qweqwed.com        4\n",
       "4          asdsa.com        2\n",
       "5          asdsa.com        1\n",
       "6        qweqwed.com        2\n",
       "7      qweqaswed.com        1\n",
       "8       qweaqwed.com        2\n",
       "9          asdsa.com        2\n",
       "10      asSSWdsa.com        1\n",
       "11     qweSAqwed.com        2\n",
       "12    qweSASqwed.com        1\n",
       "13     qwADeqwed.com        2\n",
       "14        asAdsa.com        2\n",
       "15        asdSsa.com        1\n",
       "16    qweAASqwed.com        2\n",
       "17     qweqASwed.com        1\n",
       "18  qwDSAASeqwed.com        2\n",
       "19       aASsdsa.com        2"
      ]
     },
     "execution_count": 84,
     "metadata": {},
     "output_type": "execute_result"
    }
   ],
   "source": [
    "df = pd.read_csv(\"website.csv\")\n",
    "df.loc[2:3,:].user_id = 4\n",
    "df.head(20)"
   ]
  },
  {
   "cell_type": "code",
   "execution_count": 90,
   "metadata": {
    "collapsed": false
   },
   "outputs": [
    {
     "name": "stdout",
     "output_type": "stream",
     "text": [
      "2\n",
      "qweqwed.com\n"
     ]
    }
   ],
   "source": [
    "print df.loc[1,'user_id']\n",
    "print df.loc[1,'url_id']\n"
   ]
  },
  {
   "cell_type": "code",
   "execution_count": 98,
   "metadata": {
    "collapsed": false
   },
   "outputs": [
    {
     "data": {
      "text/html": [
       "<div>\n",
       "<table border=\"1\" class=\"dataframe\">\n",
       "  <thead>\n",
       "    <tr style=\"text-align: right;\">\n",
       "      <th></th>\n",
       "      <th>url_id</th>\n",
       "      <th>user_id</th>\n",
       "    </tr>\n",
       "  </thead>\n",
       "  <tbody>\n",
       "    <tr>\n",
       "      <th>0</th>\n",
       "      <td>asdsa.com</td>\n",
       "      <td>7</td>\n",
       "    </tr>\n",
       "    <tr>\n",
       "      <th>1</th>\n",
       "      <td>qweqwed.com</td>\n",
       "      <td>8</td>\n",
       "    </tr>\n",
       "    <tr>\n",
       "      <th>2</th>\n",
       "      <td>qweqwed.com</td>\n",
       "      <td>10</td>\n",
       "    </tr>\n",
       "    <tr>\n",
       "      <th>3</th>\n",
       "      <td>qweqwed.com</td>\n",
       "      <td>10</td>\n",
       "    </tr>\n",
       "    <tr>\n",
       "      <th>4</th>\n",
       "      <td>asdsa.com</td>\n",
       "      <td>8</td>\n",
       "    </tr>\n",
       "    <tr>\n",
       "      <th>5</th>\n",
       "      <td>asdsa.com</td>\n",
       "      <td>7</td>\n",
       "    </tr>\n",
       "    <tr>\n",
       "      <th>6</th>\n",
       "      <td>qweqwed.com</td>\n",
       "      <td>8</td>\n",
       "    </tr>\n",
       "    <tr>\n",
       "      <th>7</th>\n",
       "      <td>qweqaswed.com</td>\n",
       "      <td>7</td>\n",
       "    </tr>\n",
       "    <tr>\n",
       "      <th>8</th>\n",
       "      <td>qweaqwed.com</td>\n",
       "      <td>8</td>\n",
       "    </tr>\n",
       "    <tr>\n",
       "      <th>9</th>\n",
       "      <td>asdsa.com</td>\n",
       "      <td>8</td>\n",
       "    </tr>\n",
       "    <tr>\n",
       "      <th>10</th>\n",
       "      <td>asSSWdsa.com</td>\n",
       "      <td>7</td>\n",
       "    </tr>\n",
       "    <tr>\n",
       "      <th>11</th>\n",
       "      <td>qweSAqwed.com</td>\n",
       "      <td>8</td>\n",
       "    </tr>\n",
       "    <tr>\n",
       "      <th>12</th>\n",
       "      <td>qweSASqwed.com</td>\n",
       "      <td>7</td>\n",
       "    </tr>\n",
       "    <tr>\n",
       "      <th>13</th>\n",
       "      <td>qwADeqwed.com</td>\n",
       "      <td>8</td>\n",
       "    </tr>\n",
       "    <tr>\n",
       "      <th>14</th>\n",
       "      <td>asAdsa.com</td>\n",
       "      <td>8</td>\n",
       "    </tr>\n",
       "    <tr>\n",
       "      <th>15</th>\n",
       "      <td>asdSsa.com</td>\n",
       "      <td>7</td>\n",
       "    </tr>\n",
       "    <tr>\n",
       "      <th>16</th>\n",
       "      <td>qweAASqwed.com</td>\n",
       "      <td>8</td>\n",
       "    </tr>\n",
       "    <tr>\n",
       "      <th>17</th>\n",
       "      <td>qweqASwed.com</td>\n",
       "      <td>7</td>\n",
       "    </tr>\n",
       "    <tr>\n",
       "      <th>18</th>\n",
       "      <td>qwDSAASeqwed.com</td>\n",
       "      <td>8</td>\n",
       "    </tr>\n",
       "    <tr>\n",
       "      <th>19</th>\n",
       "      <td>aASsdsa.com</td>\n",
       "      <td>8</td>\n",
       "    </tr>\n",
       "  </tbody>\n",
       "</table>\n",
       "</div>"
      ],
      "text/plain": [
       "              url_id  user_id\n",
       "0          asdsa.com        7\n",
       "1        qweqwed.com        8\n",
       "2        qweqwed.com       10\n",
       "3        qweqwed.com       10\n",
       "4          asdsa.com        8\n",
       "5          asdsa.com        7\n",
       "6        qweqwed.com        8\n",
       "7      qweqaswed.com        7\n",
       "8       qweaqwed.com        8\n",
       "9          asdsa.com        8\n",
       "10      asSSWdsa.com        7\n",
       "11     qweSAqwed.com        8\n",
       "12    qweSASqwed.com        7\n",
       "13     qwADeqwed.com        8\n",
       "14        asAdsa.com        8\n",
       "15        asdSsa.com        7\n",
       "16    qweAASqwed.com        8\n",
       "17     qweqASwed.com        7\n",
       "18  qwDSAASeqwed.com        8\n",
       "19       aASsdsa.com        8"
      ]
     },
     "execution_count": 98,
     "metadata": {},
     "output_type": "execute_result"
    }
   ],
   "source": [
    "df.user_id = df.user_id.apply(lambda x: 2+x)\n",
    "df.head(20)"
   ]
  },
  {
   "cell_type": "code",
   "execution_count": 103,
   "metadata": {
    "collapsed": false
   },
   "outputs": [
    {
     "data": {
      "text/html": [
       "<div>\n",
       "<table border=\"1\" class=\"dataframe\">\n",
       "  <thead>\n",
       "    <tr style=\"text-align: right;\">\n",
       "      <th></th>\n",
       "      <th>url_id</th>\n",
       "      <th>user_id</th>\n",
       "    </tr>\n",
       "  </thead>\n",
       "  <tbody>\n",
       "    <tr>\n",
       "      <th>1</th>\n",
       "      <td>qweqwed.com</td>\n",
       "      <td>8</td>\n",
       "    </tr>\n",
       "    <tr>\n",
       "      <th>2</th>\n",
       "      <td>qweqwed.com</td>\n",
       "      <td>10</td>\n",
       "    </tr>\n",
       "    <tr>\n",
       "      <th>3</th>\n",
       "      <td>qweqwed.com</td>\n",
       "      <td>10</td>\n",
       "    </tr>\n",
       "    <tr>\n",
       "      <th>4</th>\n",
       "      <td>asdsa.com</td>\n",
       "      <td>8</td>\n",
       "    </tr>\n",
       "    <tr>\n",
       "      <th>6</th>\n",
       "      <td>qweqwed.com</td>\n",
       "      <td>8</td>\n",
       "    </tr>\n",
       "    <tr>\n",
       "      <th>8</th>\n",
       "      <td>qweaqwed.com</td>\n",
       "      <td>8</td>\n",
       "    </tr>\n",
       "    <tr>\n",
       "      <th>9</th>\n",
       "      <td>asdsa.com</td>\n",
       "      <td>8</td>\n",
       "    </tr>\n",
       "    <tr>\n",
       "      <th>11</th>\n",
       "      <td>qweSAqwed.com</td>\n",
       "      <td>8</td>\n",
       "    </tr>\n",
       "    <tr>\n",
       "      <th>13</th>\n",
       "      <td>qwADeqwed.com</td>\n",
       "      <td>8</td>\n",
       "    </tr>\n",
       "    <tr>\n",
       "      <th>14</th>\n",
       "      <td>asAdsa.com</td>\n",
       "      <td>8</td>\n",
       "    </tr>\n",
       "    <tr>\n",
       "      <th>16</th>\n",
       "      <td>qweAASqwed.com</td>\n",
       "      <td>8</td>\n",
       "    </tr>\n",
       "    <tr>\n",
       "      <th>18</th>\n",
       "      <td>qwDSAASeqwed.com</td>\n",
       "      <td>8</td>\n",
       "    </tr>\n",
       "    <tr>\n",
       "      <th>19</th>\n",
       "      <td>aASsdsa.com</td>\n",
       "      <td>8</td>\n",
       "    </tr>\n",
       "  </tbody>\n",
       "</table>\n",
       "</div>"
      ],
      "text/plain": [
       "              url_id  user_id\n",
       "1        qweqwed.com        8\n",
       "2        qweqwed.com       10\n",
       "3        qweqwed.com       10\n",
       "4          asdsa.com        8\n",
       "6        qweqwed.com        8\n",
       "8       qweaqwed.com        8\n",
       "9          asdsa.com        8\n",
       "11     qweSAqwed.com        8\n",
       "13     qwADeqwed.com        8\n",
       "14        asAdsa.com        8\n",
       "16    qweAASqwed.com        8\n",
       "18  qwDSAASeqwed.com        8\n",
       "19       aASsdsa.com        8"
      ]
     },
     "execution_count": 103,
     "metadata": {},
     "output_type": "execute_result"
    }
   ],
   "source": [
    "df.loc[df.user_id >7]"
   ]
  },
  {
   "cell_type": "code",
   "execution_count": 129,
   "metadata": {
    "collapsed": false
   },
   "outputs": [
    {
     "name": "stdout",
     "output_type": "stream",
     "text": [
      "url_id\n",
      "va\n",
      "              url_id  user_id\n",
      "0          asdsa.com        7\n",
      "1        qweqwed.com        8\n",
      "2        qweqwed.com       10\n",
      "3        qweqwed.com       10\n",
      "4          asdsa.com        8\n",
      "5          asdsa.com        7\n",
      "6        qweqwed.com        8\n",
      "7      qweqaswed.com        7\n",
      "8       qweaqwed.com        8\n",
      "9          asdsa.com        8\n",
      "10      asSSWdsa.com        7\n",
      "11     qweSAqwed.com        8\n",
      "12    qweSASqwed.com        7\n",
      "13     qwADeqwed.com        8\n",
      "14        asAdsa.com        8\n",
      "15        asdSsa.com        7\n",
      "16    qweAASqwed.com        8\n",
      "17     qweqASwed.com        7\n",
      "18  qwDSAASeqwed.com        8\n",
      "19       aASsdsa.com        8\n",
      "0            asdsa.com\n",
      "1          qweqwed.com\n",
      "2          qweqwed.com\n",
      "3          qweqwed.com\n",
      "4            asdsa.com\n",
      "5            asdsa.com\n",
      "6          qweqwed.com\n",
      "7        qweqaswed.com\n",
      "8         qweaqwed.com\n",
      "9            asdsa.com\n",
      "10        asSSWdsa.com\n",
      "11       qweSAqwed.com\n",
      "12      qweSASqwed.com\n",
      "13       qwADeqwed.com\n",
      "14          asAdsa.com\n",
      "15          asdSsa.com\n",
      "16      qweAASqwed.com\n",
      "17       qweqASwed.com\n",
      "18    qwDSAASeqwed.com\n",
      "19         aASsdsa.com\n",
      "Name: url_id, dtype: object\n"
     ]
    },
    {
     "data": {
      "text/plain": [
       "0            asdsa.com\n",
       "1          qweqwed.com\n",
       "2          qweqwed.com\n",
       "3          qweqwed.com\n",
       "4            asdsa.com\n",
       "5            asdsa.com\n",
       "6          qweqwed.com\n",
       "7        qweqaswed.com\n",
       "8         qweaqwed.com\n",
       "9            asdsa.com\n",
       "10        asSSWdsa.com\n",
       "11       qweSAqwed.com\n",
       "12      qweSASqwed.com\n",
       "13       qwADeqwed.com\n",
       "14          asAdsa.com\n",
       "15          asdSsa.com\n",
       "16      qweAASqwed.com\n",
       "17       qweqASwed.com\n",
       "18    qwDSAASeqwed.com\n",
       "19         aASsdsa.com\n",
       "Name: url_id, dtype: object"
      ]
     },
     "execution_count": 129,
     "metadata": {},
     "output_type": "execute_result"
    }
   ],
   "source": [
    "print df.columns[0]\n",
    "\n",
    "def f(c):\n",
    "    print 'va'\n",
    "    print c\n",
    "    print c.url_id\n",
    "    return c.columns[0]\n",
    "\n",
    "df[lambda c : f(c)]"
   ]
  },
  {
   "cell_type": "code",
   "execution_count": 131,
   "metadata": {
    "collapsed": false,
    "scrolled": true
   },
   "outputs": [
    {
     "data": {
      "text/plain": [
       "0            asdsa.com\n",
       "1          qweqwed.com\n",
       "2          qweqwed.com\n",
       "3          qweqwed.com\n",
       "4            asdsa.com\n",
       "5            asdsa.com\n",
       "6          qweqwed.com\n",
       "7        qweqaswed.com\n",
       "8         qweaqwed.com\n",
       "9            asdsa.com\n",
       "10        asSSWdsa.com\n",
       "11       qweSAqwed.com\n",
       "12      qweSASqwed.com\n",
       "13       qwADeqwed.com\n",
       "14          asAdsa.com\n",
       "15          asdSsa.com\n",
       "16      qweAASqwed.com\n",
       "17       qweqASwed.com\n",
       "18    qwDSAASeqwed.com\n",
       "19         aASsdsa.com\n",
       "Name: url_id, dtype: object"
      ]
     },
     "execution_count": 131,
     "metadata": {},
     "output_type": "execute_result"
    }
   ],
   "source": [
    "df[df.columns[0]]"
   ]
  },
  {
   "cell_type": "code",
   "execution_count": 133,
   "metadata": {
    "collapsed": false
   },
   "outputs": [
    {
     "data": {
      "text/html": [
       "<div>\n",
       "<table border=\"1\" class=\"dataframe\">\n",
       "  <thead>\n",
       "    <tr style=\"text-align: right;\">\n",
       "      <th></th>\n",
       "      <th>url_id</th>\n",
       "      <th>user_id</th>\n",
       "    </tr>\n",
       "  </thead>\n",
       "  <tbody>\n",
       "    <tr>\n",
       "      <th>2</th>\n",
       "      <td>qweqwed.com</td>\n",
       "      <td>10</td>\n",
       "    </tr>\n",
       "    <tr>\n",
       "      <th>3</th>\n",
       "      <td>qweqwed.com</td>\n",
       "      <td>10</td>\n",
       "    </tr>\n",
       "  </tbody>\n",
       "</table>\n",
       "</div>"
      ],
      "text/plain": [
       "        url_id  user_id\n",
       "2  qweqwed.com       10\n",
       "3  qweqwed.com       10"
      ]
     },
     "execution_count": 133,
     "metadata": {},
     "output_type": "execute_result"
    }
   ],
   "source": [
    "df[df.user_id == 10]"
   ]
  },
  {
   "cell_type": "markdown",
   "metadata": {
    "deletable": true,
    "editable": true
   },
   "source": [
    " Segundo Cuatrimestre de 2014. Examen parcial, tercera oportunidad\n",
    " \n",
    " \n",
    " \n",
    "2) Se tiene un archivo de texto con datos de la forma (url_id,\n",
    "user_id) representando visitas a un website. (Se pueden\n",
    "repetir registros). Se pide programar en Pig un script que\n",
    "indique cual es el promedio global de sitios visitados por\n",
    "usuario. (***) (15pts)"
   ]
  },
  {
   "cell_type": "code",
   "execution_count": 206,
   "metadata": {
    "collapsed": false
   },
   "outputs": [
    {
     "data": {
      "text/html": [
       "<div>\n",
       "<table border=\"1\" class=\"dataframe\">\n",
       "  <thead>\n",
       "    <tr style=\"text-align: right;\">\n",
       "      <th></th>\n",
       "      <th>url_id</th>\n",
       "      <th>user_id</th>\n",
       "    </tr>\n",
       "  </thead>\n",
       "  <tbody>\n",
       "    <tr>\n",
       "      <th>0</th>\n",
       "      <td>asdsa.com</td>\n",
       "      <td>1</td>\n",
       "    </tr>\n",
       "    <tr>\n",
       "      <th>1</th>\n",
       "      <td>qweqwed.com</td>\n",
       "      <td>2</td>\n",
       "    </tr>\n",
       "    <tr>\n",
       "      <th>2</th>\n",
       "      <td>qweqwed.com</td>\n",
       "      <td>1</td>\n",
       "    </tr>\n",
       "    <tr>\n",
       "      <th>3</th>\n",
       "      <td>qweqwed.com</td>\n",
       "      <td>2</td>\n",
       "    </tr>\n",
       "    <tr>\n",
       "      <th>4</th>\n",
       "      <td>asdsa.com</td>\n",
       "      <td>2</td>\n",
       "    </tr>\n",
       "    <tr>\n",
       "      <th>5</th>\n",
       "      <td>asdsa.com</td>\n",
       "      <td>1</td>\n",
       "    </tr>\n",
       "    <tr>\n",
       "      <th>6</th>\n",
       "      <td>qweqwed.com</td>\n",
       "      <td>2</td>\n",
       "    </tr>\n",
       "    <tr>\n",
       "      <th>7</th>\n",
       "      <td>qweqaswed.com</td>\n",
       "      <td>1</td>\n",
       "    </tr>\n",
       "    <tr>\n",
       "      <th>8</th>\n",
       "      <td>qweaqwed.com</td>\n",
       "      <td>2</td>\n",
       "    </tr>\n",
       "    <tr>\n",
       "      <th>9</th>\n",
       "      <td>asdsa.com</td>\n",
       "      <td>2</td>\n",
       "    </tr>\n",
       "    <tr>\n",
       "      <th>10</th>\n",
       "      <td>asSSWdsa.com</td>\n",
       "      <td>1</td>\n",
       "    </tr>\n",
       "    <tr>\n",
       "      <th>11</th>\n",
       "      <td>qweSAqwed.com</td>\n",
       "      <td>2</td>\n",
       "    </tr>\n",
       "    <tr>\n",
       "      <th>12</th>\n",
       "      <td>qweSASqwed.com</td>\n",
       "      <td>1</td>\n",
       "    </tr>\n",
       "    <tr>\n",
       "      <th>13</th>\n",
       "      <td>qwADeqwed.com</td>\n",
       "      <td>2</td>\n",
       "    </tr>\n",
       "    <tr>\n",
       "      <th>14</th>\n",
       "      <td>asAdsa.com</td>\n",
       "      <td>2</td>\n",
       "    </tr>\n",
       "    <tr>\n",
       "      <th>15</th>\n",
       "      <td>asdSsa.com</td>\n",
       "      <td>1</td>\n",
       "    </tr>\n",
       "    <tr>\n",
       "      <th>16</th>\n",
       "      <td>asdsa.com</td>\n",
       "      <td>1</td>\n",
       "    </tr>\n",
       "    <tr>\n",
       "      <th>17</th>\n",
       "      <td>qweAASqwed.com</td>\n",
       "      <td>2</td>\n",
       "    </tr>\n",
       "    <tr>\n",
       "      <th>18</th>\n",
       "      <td>qweqASwed.com</td>\n",
       "      <td>1</td>\n",
       "    </tr>\n",
       "    <tr>\n",
       "      <th>19</th>\n",
       "      <td>qwDSAASeqwed.com</td>\n",
       "      <td>2</td>\n",
       "    </tr>\n",
       "    <tr>\n",
       "      <th>20</th>\n",
       "      <td>aASsdsa.com</td>\n",
       "      <td>2</td>\n",
       "    </tr>\n",
       "  </tbody>\n",
       "</table>\n",
       "</div>"
      ],
      "text/plain": [
       "              url_id  user_id\n",
       "0          asdsa.com        1\n",
       "1        qweqwed.com        2\n",
       "2        qweqwed.com        1\n",
       "3        qweqwed.com        2\n",
       "4          asdsa.com        2\n",
       "5          asdsa.com        1\n",
       "6        qweqwed.com        2\n",
       "7      qweqaswed.com        1\n",
       "8       qweaqwed.com        2\n",
       "9          asdsa.com        2\n",
       "10      asSSWdsa.com        1\n",
       "11     qweSAqwed.com        2\n",
       "12    qweSASqwed.com        1\n",
       "13     qwADeqwed.com        2\n",
       "14        asAdsa.com        2\n",
       "15        asdSsa.com        1\n",
       "16         asdsa.com        1\n",
       "17    qweAASqwed.com        2\n",
       "18     qweqASwed.com        1\n",
       "19  qwDSAASeqwed.com        2\n",
       "20       aASsdsa.com        2"
      ]
     },
     "execution_count": 206,
     "metadata": {},
     "output_type": "execute_result"
    }
   ],
   "source": [
    "df = pd.read_csv(\"website.csv\")\n",
    "df.head(21)"
   ]
  },
  {
   "cell_type": "code",
   "execution_count": 138,
   "metadata": {
    "collapsed": false
   },
   "outputs": [
    {
     "name": "stdout",
     "output_type": "stream",
     "text": [
      "[1 2]\n"
     ]
    }
   ],
   "source": [
    "users = df.user_id.unique()\n",
    "print users"
   ]
  },
  {
   "cell_type": "code",
   "execution_count": 217,
   "metadata": {
    "collapsed": false
   },
   "outputs": [
    {
     "name": "stdout",
     "output_type": "stream",
     "text": [
      "              url_id  user_id  visitas\n",
      "0          asdsa.com        1        1\n",
      "1        qweqwed.com        2        1\n",
      "2        qweqwed.com        1        1\n",
      "4          asdsa.com        2        1\n",
      "7      qweqaswed.com        1        1\n",
      "8       qweaqwed.com        2        1\n",
      "10      asSSWdsa.com        1        1\n",
      "11     qweSAqwed.com        2        1\n",
      "12    qweSASqwed.com        1        1\n",
      "13     qwADeqwed.com        2        1\n",
      "14        asAdsa.com        2        1\n",
      "15        asdSsa.com        1        1\n",
      "17    qweAASqwed.com        2        1\n",
      "18     qweqASwed.com        1        1\n",
      "19  qwDSAASeqwed.com        2        1\n",
      "20       aASsdsa.com        2        1\n",
      "21     qweqaswed.com        3        1\n",
      "22      qweaqwed.com        3        1\n",
      "23         asdsa.com        3        1\n",
      "24       asSSWdsa.cm        3        1\n",
      "25     qweSAqwed.com        3        1\n",
      "26    qweSASqwed.com        3        1\n"
     ]
    },
    {
     "data": {
      "text/plain": [
       "8.3333333333333339"
      ]
     },
     "execution_count": 217,
     "metadata": {},
     "output_type": "execute_result"
    }
   ],
   "source": [
    "df['visitas'] = 1\n",
    "# df.sort_values('url_id', ascending=False)\n",
    "\n",
    "\n",
    "df.drop_duplicates(inplace =True)\n",
    "print df.head(22)\n",
    "df.groupby('user_id')['visitas'].sum().mean()\n"
   ]
  },
  {
   "cell_type": "code",
   "execution_count": 235,
   "metadata": {
    "collapsed": false
   },
   "outputs": [
    {
     "name": "stdout",
     "output_type": "stream",
     "text": [
      "     A      B         C         D\n",
      "0  foo    one  1.707312  0.338385\n",
      "1  bar    one  0.767105  1.111180\n",
      "2  foo    two -1.219677  1.679029\n",
      "3  bar  three -0.437777 -1.022916\n",
      "4  foo    two -0.198591 -0.238209\n",
      "5  bar    two  0.465261 -0.260233\n",
      "6  foo    one  1.183136 -0.275771\n",
      "7  foo  three -0.279660 -1.407878\n",
      "A    B    \n",
      "bar  one      0.767105\n",
      "     three   -0.437777\n",
      "     two      0.465261\n",
      "foo  one      2.890447\n",
      "     three   -0.279660\n",
      "Name: C, dtype: float64\n"
     ]
    }
   ],
   "source": [
    "df = pd.DataFrame({'A' : ['foo', 'bar', 'foo', 'bar',\n",
    "                     'foo', 'bar', 'foo', 'foo'],\n",
    "                'B' : ['one', 'one', 'two', 'three',\n",
    "                       'two', 'two', 'one', 'three'],\n",
    "                   'C' : np.random.randn(8),\n",
    "               'D' : np.random.randn(8)})\n",
    "print df.head(20)\n",
    "grouped = df.groupby(['A','B'])['C'].sum()\n",
    "print grouped.head()"
   ]
  },
  {
   "cell_type": "markdown",
   "metadata": {},
   "source": [
    "Dados los archivos: ratings (movie_id, title, avg_rating) genres (movie_id, genre) Realizar un programa en PIG que liste los 5 géneros con mayor promedio de rating en sus películas. (**) (15 pts)"
   ]
  },
  {
   "cell_type": "code",
   "execution_count": 254,
   "metadata": {
    "collapsed": false
   },
   "outputs": [
    {
     "data": {
      "text/html": [
       "<div>\n",
       "<table border=\"1\" class=\"dataframe\">\n",
       "  <thead>\n",
       "    <tr style=\"text-align: right;\">\n",
       "      <th></th>\n",
       "      <th>avg_rating</th>\n",
       "      <th>movie_id</th>\n",
       "      <th>title</th>\n",
       "    </tr>\n",
       "  </thead>\n",
       "  <tbody>\n",
       "    <tr>\n",
       "      <th>0</th>\n",
       "      <td>12</td>\n",
       "      <td>1</td>\n",
       "      <td>Materia A</td>\n",
       "    </tr>\n",
       "    <tr>\n",
       "      <th>1</th>\n",
       "      <td>34</td>\n",
       "      <td>2</td>\n",
       "      <td>Materia B</td>\n",
       "    </tr>\n",
       "    <tr>\n",
       "      <th>2</th>\n",
       "      <td>68</td>\n",
       "      <td>3</td>\n",
       "      <td>Materia C</td>\n",
       "    </tr>\n",
       "    <tr>\n",
       "      <th>3</th>\n",
       "      <td>98</td>\n",
       "      <td>4</td>\n",
       "      <td>Materia D</td>\n",
       "    </tr>\n",
       "    <tr>\n",
       "      <th>4</th>\n",
       "      <td>32</td>\n",
       "      <td>5</td>\n",
       "      <td>Materia E</td>\n",
       "    </tr>\n",
       "  </tbody>\n",
       "</table>\n",
       "</div>"
      ],
      "text/plain": [
       "   avg_rating  movie_id      title\n",
       "0          12         1  Materia A\n",
       "1          34         2  Materia B\n",
       "2          68         3  Materia C\n",
       "3          98         4  Materia D\n",
       "4          32         5  Materia E"
      ]
     },
     "execution_count": 254,
     "metadata": {},
     "output_type": "execute_result"
    }
   ],
   "source": [
    "Ratings = {\n",
    "'movie_id': [1,2,3,4,5,6,7,8,9,10,11,12,13,14,15,16],\n",
    "'title': ['Materia A', 'Materia B', 'Materia C', 'Materia D', 'Materia E','Materia F',\n",
    "                  'Materia 7','Materia 8','Materia 9','Materia 10','Materia 11',\n",
    "                  'Materia 12','Materia 13','Materia 14','Materia 15','Materia 16'],\n",
    "'avg_rating':[12,34,68,98,32,45,76,88,76,54,33,23,12,67,65,21]\n",
    "}\n",
    "\n",
    "\n",
    "Genres = {\n",
    "    'movie_id': [1,2, 3,4,5,6,7,8,9,10,11,12,13,14,15,16],\n",
    "    'genre': ['Fantasia', 'Terror' ,'Suspenso', 'Suspenso', 'Suspenso', 'Drama', 'Drama', 'Drama', 'Drama', 'Fantasia', 'Terror' ,'Suspenso', 'Terror', 'Terror', 'Terror', 'Infantil']\n",
    "}\n",
    "\n",
    "ratings = pd.DataFrame(Ratings)\n",
    "\n",
    "ratings.head()\n",
    "\n"
   ]
  },
  {
   "cell_type": "code",
   "execution_count": 255,
   "metadata": {
    "collapsed": false
   },
   "outputs": [
    {
     "data": {
      "text/html": [
       "<div>\n",
       "<table border=\"1\" class=\"dataframe\">\n",
       "  <thead>\n",
       "    <tr style=\"text-align: right;\">\n",
       "      <th></th>\n",
       "      <th>genre</th>\n",
       "      <th>movie_id</th>\n",
       "    </tr>\n",
       "  </thead>\n",
       "  <tbody>\n",
       "    <tr>\n",
       "      <th>0</th>\n",
       "      <td>Fantasia</td>\n",
       "      <td>1</td>\n",
       "    </tr>\n",
       "    <tr>\n",
       "      <th>1</th>\n",
       "      <td>Terror</td>\n",
       "      <td>2</td>\n",
       "    </tr>\n",
       "    <tr>\n",
       "      <th>2</th>\n",
       "      <td>Suspenso</td>\n",
       "      <td>3</td>\n",
       "    </tr>\n",
       "    <tr>\n",
       "      <th>3</th>\n",
       "      <td>Suspenso</td>\n",
       "      <td>4</td>\n",
       "    </tr>\n",
       "    <tr>\n",
       "      <th>4</th>\n",
       "      <td>Suspenso</td>\n",
       "      <td>5</td>\n",
       "    </tr>\n",
       "  </tbody>\n",
       "</table>\n",
       "</div>"
      ],
      "text/plain": [
       "      genre  movie_id\n",
       "0  Fantasia         1\n",
       "1    Terror         2\n",
       "2  Suspenso         3\n",
       "3  Suspenso         4\n",
       "4  Suspenso         5"
      ]
     },
     "execution_count": 255,
     "metadata": {},
     "output_type": "execute_result"
    }
   ],
   "source": [
    "genres = pd.DataFrame(Genres)\n",
    "genres.head()"
   ]
  },
  {
   "cell_type": "code",
   "execution_count": 258,
   "metadata": {
    "collapsed": false
   },
   "outputs": [
    {
     "data": {
      "text/html": [
       "<div>\n",
       "<table border=\"1\" class=\"dataframe\">\n",
       "  <thead>\n",
       "    <tr style=\"text-align: right;\">\n",
       "      <th></th>\n",
       "      <th>avg_rating</th>\n",
       "      <th>movie_id</th>\n",
       "      <th>title</th>\n",
       "      <th>genre</th>\n",
       "    </tr>\n",
       "  </thead>\n",
       "  <tbody>\n",
       "    <tr>\n",
       "      <th>0</th>\n",
       "      <td>12</td>\n",
       "      <td>1</td>\n",
       "      <td>Materia A</td>\n",
       "      <td>Fantasia</td>\n",
       "    </tr>\n",
       "    <tr>\n",
       "      <th>1</th>\n",
       "      <td>34</td>\n",
       "      <td>2</td>\n",
       "      <td>Materia B</td>\n",
       "      <td>Terror</td>\n",
       "    </tr>\n",
       "    <tr>\n",
       "      <th>2</th>\n",
       "      <td>68</td>\n",
       "      <td>3</td>\n",
       "      <td>Materia C</td>\n",
       "      <td>Suspenso</td>\n",
       "    </tr>\n",
       "    <tr>\n",
       "      <th>3</th>\n",
       "      <td>98</td>\n",
       "      <td>4</td>\n",
       "      <td>Materia D</td>\n",
       "      <td>Suspenso</td>\n",
       "    </tr>\n",
       "    <tr>\n",
       "      <th>4</th>\n",
       "      <td>32</td>\n",
       "      <td>5</td>\n",
       "      <td>Materia E</td>\n",
       "      <td>Suspenso</td>\n",
       "    </tr>\n",
       "  </tbody>\n",
       "</table>\n",
       "</div>"
      ],
      "text/plain": [
       "   avg_rating  movie_id      title     genre\n",
       "0          12         1  Materia A  Fantasia\n",
       "1          34         2  Materia B    Terror\n",
       "2          68         3  Materia C  Suspenso\n",
       "3          98         4  Materia D  Suspenso\n",
       "4          32         5  Materia E  Suspenso"
      ]
     },
     "execution_count": 258,
     "metadata": {},
     "output_type": "execute_result"
    }
   ],
   "source": [
    "merge = pd.merge(ratings,genres,on='movie_id', how='inner')\n",
    "merge.head()"
   ]
  },
  {
   "cell_type": "code",
   "execution_count": 269,
   "metadata": {
    "collapsed": false
   },
   "outputs": [
    {
     "data": {
      "text/plain": [
       "genre\n",
       "Drama       71.25\n",
       "Suspenso    55.25\n",
       "Terror      42.20\n",
       "Fantasia    33.00\n",
       "Infantil    21.00\n",
       "Name: avg_rating, dtype: float64"
      ]
     },
     "execution_count": 269,
     "metadata": {},
     "output_type": "execute_result"
    }
   ],
   "source": [
    "merge.groupby('genre')['avg_rating'].mean().sort_values(ascending=False).head(5)"
   ]
  },
  {
   "cell_type": "code",
   "execution_count": 273,
   "metadata": {
    "collapsed": false
   },
   "outputs": [
    {
     "data": {
      "text/html": [
       "<div>\n",
       "<table border=\"1\" class=\"dataframe\">\n",
       "  <thead>\n",
       "    <tr style=\"text-align: right;\">\n",
       "      <th></th>\n",
       "      <th>Codigo Curso</th>\n",
       "      <th>Codigo Materia</th>\n",
       "      <th>Nombre de Materia</th>\n",
       "      <th>Profesor</th>\n",
       "    </tr>\n",
       "  </thead>\n",
       "  <tbody>\n",
       "    <tr>\n",
       "      <th>0</th>\n",
       "      <td>1A</td>\n",
       "      <td>75.06</td>\n",
       "      <td>Materia A</td>\n",
       "      <td>Prof A</td>\n",
       "    </tr>\n",
       "    <tr>\n",
       "      <th>1</th>\n",
       "      <td>1B</td>\n",
       "      <td>75.06</td>\n",
       "      <td>Materia B</td>\n",
       "      <td>Prof B</td>\n",
       "    </tr>\n",
       "    <tr>\n",
       "      <th>2</th>\n",
       "      <td>1C</td>\n",
       "      <td>75.06</td>\n",
       "      <td>Materia C</td>\n",
       "      <td>Prof C</td>\n",
       "    </tr>\n",
       "    <tr>\n",
       "      <th>3</th>\n",
       "      <td>1D</td>\n",
       "      <td>75.10</td>\n",
       "      <td>Materia D</td>\n",
       "      <td>Prof D</td>\n",
       "    </tr>\n",
       "    <tr>\n",
       "      <th>4</th>\n",
       "      <td>1E</td>\n",
       "      <td>63.01</td>\n",
       "      <td>Materia E</td>\n",
       "      <td>Prof E</td>\n",
       "    </tr>\n",
       "  </tbody>\n",
       "</table>\n",
       "</div>"
      ],
      "text/plain": [
       "  Codigo Curso Codigo Materia Nombre de Materia Profesor\n",
       "0           1A          75.06         Materia A   Prof A\n",
       "1           1B          75.06         Materia B   Prof B\n",
       "2           1C          75.06         Materia C   Prof C\n",
       "3           1D          75.10         Materia D   Prof D\n",
       "4           1E          63.01         Materia E   Prof E"
      ]
     },
     "execution_count": 273,
     "metadata": {},
     "output_type": "execute_result"
    }
   ],
   "source": [
    "Cursos = {\n",
    "    \t'Codigo Materia': ['75.06', '75.06', '75.06', '75.10', '63.01'],\n",
    "    \t'Nombre de Materia': ['Materia A', 'Materia B', 'Materia C', 'Materia D', 'Materia E'],\n",
    "    \t'Codigo Curso':['1A','1B','1C','1D','1E'],\n",
    "    \t'Profesor':['Prof A', 'Prof B', 'Prof C', 'Prof D', 'Prof E']\n",
    "}\n",
    "\n",
    "Notas = {\n",
    "    \t'padron': ['94508', '93000','95000', '96000', '98000', '10000', '10001'],\n",
    "    \t'Codigo Materia': ['75.06', '75.06', '75.06','75.06', '75.10', '63.01', '63.01'],\n",
    "    \t'Codigo Curso': ['1A','1A','1B','1C','1D','1E', '1E'],\n",
    "    \t'Nota': [10, 7,7, 8, 4, 10, 2],\n",
    "}\n",
    "\n",
    "cursos = pd.DataFrame(Cursos)\n",
    "\n",
    "cursos.head()"
   ]
  },
  {
   "cell_type": "code",
   "execution_count": 275,
   "metadata": {
    "collapsed": false
   },
   "outputs": [
    {
     "data": {
      "text/html": [
       "<div>\n",
       "<table border=\"1\" class=\"dataframe\">\n",
       "  <thead>\n",
       "    <tr style=\"text-align: right;\">\n",
       "      <th></th>\n",
       "      <th>Codigo Curso</th>\n",
       "      <th>Codigo Materia</th>\n",
       "      <th>Nota</th>\n",
       "      <th>padron</th>\n",
       "    </tr>\n",
       "  </thead>\n",
       "  <tbody>\n",
       "    <tr>\n",
       "      <th>0</th>\n",
       "      <td>1A</td>\n",
       "      <td>75.06</td>\n",
       "      <td>10</td>\n",
       "      <td>94508</td>\n",
       "    </tr>\n",
       "    <tr>\n",
       "      <th>1</th>\n",
       "      <td>1A</td>\n",
       "      <td>75.06</td>\n",
       "      <td>7</td>\n",
       "      <td>93000</td>\n",
       "    </tr>\n",
       "    <tr>\n",
       "      <th>2</th>\n",
       "      <td>1B</td>\n",
       "      <td>75.06</td>\n",
       "      <td>7</td>\n",
       "      <td>95000</td>\n",
       "    </tr>\n",
       "    <tr>\n",
       "      <th>3</th>\n",
       "      <td>1C</td>\n",
       "      <td>75.06</td>\n",
       "      <td>8</td>\n",
       "      <td>96000</td>\n",
       "    </tr>\n",
       "    <tr>\n",
       "      <th>4</th>\n",
       "      <td>1D</td>\n",
       "      <td>75.10</td>\n",
       "      <td>4</td>\n",
       "      <td>98000</td>\n",
       "    </tr>\n",
       "  </tbody>\n",
       "</table>\n",
       "</div>"
      ],
      "text/plain": [
       "  Codigo Curso Codigo Materia  Nota padron\n",
       "0           1A          75.06    10  94508\n",
       "1           1A          75.06     7  93000\n",
       "2           1B          75.06     7  95000\n",
       "3           1C          75.06     8  96000\n",
       "4           1D          75.10     4  98000"
      ]
     },
     "execution_count": 275,
     "metadata": {},
     "output_type": "execute_result"
    }
   ],
   "source": [
    "notas = pd.DataFrame(Notas)\n",
    "notas.head()"
   ]
  },
  {
   "cell_type": "code",
   "execution_count": 286,
   "metadata": {
    "collapsed": false
   },
   "outputs": [
    {
     "data": {
      "text/html": [
       "<div>\n",
       "<table border=\"1\" class=\"dataframe\">\n",
       "  <thead>\n",
       "    <tr style=\"text-align: right;\">\n",
       "      <th></th>\n",
       "      <th>Codigo Curso</th>\n",
       "      <th>Codigo Materia</th>\n",
       "      <th>Nombre de Materia</th>\n",
       "      <th>Profesor</th>\n",
       "      <th>Nota</th>\n",
       "      <th>padron</th>\n",
       "    </tr>\n",
       "  </thead>\n",
       "  <tbody>\n",
       "    <tr>\n",
       "      <th>0</th>\n",
       "      <td>1A</td>\n",
       "      <td>75.06</td>\n",
       "      <td>Materia A</td>\n",
       "      <td>Prof A</td>\n",
       "      <td>10</td>\n",
       "      <td>94508</td>\n",
       "    </tr>\n",
       "    <tr>\n",
       "      <th>1</th>\n",
       "      <td>1A</td>\n",
       "      <td>75.06</td>\n",
       "      <td>Materia A</td>\n",
       "      <td>Prof A</td>\n",
       "      <td>7</td>\n",
       "      <td>93000</td>\n",
       "    </tr>\n",
       "    <tr>\n",
       "      <th>2</th>\n",
       "      <td>1B</td>\n",
       "      <td>75.06</td>\n",
       "      <td>Materia B</td>\n",
       "      <td>Prof B</td>\n",
       "      <td>7</td>\n",
       "      <td>95000</td>\n",
       "    </tr>\n",
       "    <tr>\n",
       "      <th>3</th>\n",
       "      <td>1C</td>\n",
       "      <td>75.06</td>\n",
       "      <td>Materia C</td>\n",
       "      <td>Prof C</td>\n",
       "      <td>8</td>\n",
       "      <td>96000</td>\n",
       "    </tr>\n",
       "    <tr>\n",
       "      <th>4</th>\n",
       "      <td>1D</td>\n",
       "      <td>75.10</td>\n",
       "      <td>Materia D</td>\n",
       "      <td>Prof D</td>\n",
       "      <td>4</td>\n",
       "      <td>98000</td>\n",
       "    </tr>\n",
       "  </tbody>\n",
       "</table>\n",
       "</div>"
      ],
      "text/plain": [
       "  Codigo Curso Codigo Materia Nombre de Materia Profesor  Nota padron\n",
       "0           1A          75.06         Materia A   Prof A    10  94508\n",
       "1           1A          75.06         Materia A   Prof A     7  93000\n",
       "2           1B          75.06         Materia B   Prof B     7  95000\n",
       "3           1C          75.06         Materia C   Prof C     8  96000\n",
       "4           1D          75.10         Materia D   Prof D     4  98000"
      ]
     },
     "execution_count": 286,
     "metadata": {},
     "output_type": "execute_result"
    }
   ],
   "source": [
    "merge = pd.merge(cursos,notas, on=['Codigo Materia','Codigo Curso'] ,how='inner')\n",
    "\n",
    "merge.head()"
   ]
  },
  {
   "cell_type": "code",
   "execution_count": 288,
   "metadata": {
    "collapsed": false
   },
   "outputs": [
    {
     "data": {
      "text/html": [
       "<div>\n",
       "<table border=\"1\" class=\"dataframe\">\n",
       "  <thead>\n",
       "    <tr style=\"text-align: right;\">\n",
       "      <th></th>\n",
       "      <th>Codigo Curso</th>\n",
       "      <th>Codigo Materia</th>\n",
       "      <th>Nombre de Materia</th>\n",
       "      <th>Profesor</th>\n",
       "      <th>Nota</th>\n",
       "      <th>padron</th>\n",
       "    </tr>\n",
       "  </thead>\n",
       "  <tbody>\n",
       "    <tr>\n",
       "      <th>0</th>\n",
       "      <td>1A</td>\n",
       "      <td>75.06</td>\n",
       "      <td>Materia A</td>\n",
       "      <td>Prof A</td>\n",
       "      <td>10</td>\n",
       "      <td>94508</td>\n",
       "    </tr>\n",
       "    <tr>\n",
       "      <th>1</th>\n",
       "      <td>1A</td>\n",
       "      <td>75.06</td>\n",
       "      <td>Materia A</td>\n",
       "      <td>Prof A</td>\n",
       "      <td>7</td>\n",
       "      <td>93000</td>\n",
       "    </tr>\n",
       "    <tr>\n",
       "      <th>2</th>\n",
       "      <td>1B</td>\n",
       "      <td>75.06</td>\n",
       "      <td>Materia B</td>\n",
       "      <td>Prof B</td>\n",
       "      <td>7</td>\n",
       "      <td>95000</td>\n",
       "    </tr>\n",
       "    <tr>\n",
       "      <th>3</th>\n",
       "      <td>1C</td>\n",
       "      <td>75.06</td>\n",
       "      <td>Materia C</td>\n",
       "      <td>Prof C</td>\n",
       "      <td>8</td>\n",
       "      <td>96000</td>\n",
       "    </tr>\n",
       "    <tr>\n",
       "      <th>5</th>\n",
       "      <td>1E</td>\n",
       "      <td>63.01</td>\n",
       "      <td>Materia E</td>\n",
       "      <td>Prof E</td>\n",
       "      <td>10</td>\n",
       "      <td>10000</td>\n",
       "    </tr>\n",
       "  </tbody>\n",
       "</table>\n",
       "</div>"
      ],
      "text/plain": [
       "  Codigo Curso Codigo Materia Nombre de Materia Profesor  Nota padron\n",
       "0           1A          75.06         Materia A   Prof A    10  94508\n",
       "1           1A          75.06         Materia A   Prof A     7  93000\n",
       "2           1B          75.06         Materia B   Prof B     7  95000\n",
       "3           1C          75.06         Materia C   Prof C     8  96000\n",
       "5           1E          63.01         Materia E   Prof E    10  10000"
      ]
     },
     "execution_count": 288,
     "metadata": {},
     "output_type": "execute_result"
    }
   ],
   "source": [
    "merge = merge[merge['Nota']>=7]\n",
    "merge.head()"
   ]
  },
  {
   "cell_type": "code",
   "execution_count": 290,
   "metadata": {
    "collapsed": false
   },
   "outputs": [
    {
     "data": {
      "text/plain": [
       "Nombre de Materia\n",
       "Materia E    10.0\n",
       "Materia A     8.5\n",
       "Materia C     8.0\n",
       "Materia B     7.0\n",
       "Name: Nota, dtype: float64"
      ]
     },
     "execution_count": 290,
     "metadata": {},
     "output_type": "execute_result"
    }
   ],
   "source": [
    "merge.groupby('Nombre de Materia')['Nota'].mean().sort_values(ascending=False)"
   ]
  }
 ],
 "metadata": {
  "kernelspec": {
   "display_name": "Python 2",
   "language": "python",
   "name": "python2"
  },
  "language_info": {
   "codemirror_mode": {
    "name": "ipython",
    "version": 2
   },
   "file_extension": ".py",
   "mimetype": "text/x-python",
   "name": "python",
   "nbconvert_exporter": "python",
   "pygments_lexer": "ipython2",
   "version": "2.7.12"
  }
 },
 "nbformat": 4,
 "nbformat_minor": 2
}
